{
  "nbformat": 4,
  "nbformat_minor": 0,
  "metadata": {
    "colab": {
      "name": "frcnn_ObjDec.ipynb",
      "version": "0.3.2",
      "provenance": [],
      "collapsed_sections": []
    },
    "kernelspec": {
      "name": "python3",
      "display_name": "Python 3"
    },
    "accelerator": "GPU"
  },
  "cells": [
    {
      "cell_type": "code",
      "metadata": {
        "id": "sMYCc5x2-cdf",
        "colab_type": "code",
        "colab": {}
      },
      "source": [
        "#IMPORT DATA FROM GOOGLE DRIVE\n",
        "from google.colab import drive\n",
        "drive.mount('/content/drive')"
      ],
      "execution_count": 0,
      "outputs": []
    },
    {
      "cell_type": "code",
      "metadata": {
        "id": "FYSNlsv1OuN5",
        "colab_type": "code",
        "outputId": "84ada496-bdb2-4adc-9f65-bf08935172ec",
        "colab": {
          "base_uri": "https://localhost:8080/",
          "height": 491
        }
      },
      "source": [
        "#Dependencies\n",
        "!pip uninstall keras\n",
        "!pip install keras==2.0.3"
      ],
      "execution_count": 2,
      "outputs": [
        {
          "output_type": "stream",
          "text": [
            "Uninstalling Keras-2.2.4:\n",
            "  Would remove:\n",
            "    /usr/local/lib/python3.6/dist-packages/Keras-2.2.4.dist-info/*\n",
            "    /usr/local/lib/python3.6/dist-packages/docs/*\n",
            "    /usr/local/lib/python3.6/dist-packages/keras/*\n",
            "  Would not remove (might be manually added):\n",
            "    /usr/local/lib/python3.6/dist-packages/docs/md_autogen.py\n",
            "    /usr/local/lib/python3.6/dist-packages/docs/update_docs.py\n",
            "Proceed (y/n)? y\n",
            "  Successfully uninstalled Keras-2.2.4\n",
            "Collecting keras==2.0.3\n",
            "\u001b[?25l  Downloading https://files.pythonhosted.org/packages/1b/36/fc4b247ec139ad9cc6f223ed10729d85401fc5203703c23457794f9bfe60/Keras-2.0.3.tar.gz (196kB)\n",
            "\u001b[K     |████████████████████████████████| 204kB 6.5MB/s \n",
            "\u001b[?25hRequirement already satisfied: theano in /usr/local/lib/python3.6/dist-packages (from keras==2.0.3) (1.0.4)\n",
            "Requirement already satisfied: pyyaml in /usr/local/lib/python3.6/dist-packages (from keras==2.0.3) (3.13)\n",
            "Requirement already satisfied: six in /usr/local/lib/python3.6/dist-packages (from keras==2.0.3) (1.12.0)\n",
            "Requirement already satisfied: scipy>=0.14 in /usr/local/lib/python3.6/dist-packages (from theano->keras==2.0.3) (1.3.0)\n",
            "Requirement already satisfied: numpy>=1.9.1 in /usr/local/lib/python3.6/dist-packages (from theano->keras==2.0.3) (1.16.4)\n",
            "Building wheels for collected packages: keras\n",
            "  Building wheel for keras (setup.py) ... \u001b[?25l\u001b[?25hdone\n",
            "  Stored in directory: /root/.cache/pip/wheels/a6/fb/de/faea9e49d563a35f198c6dede7f9260074b5beb8f9bffaaaa1\n",
            "Successfully built keras\n",
            "\u001b[31mERROR: textgenrnn 1.4.1 has requirement keras>=2.1.5, but you'll have keras 2.0.3 which is incompatible.\u001b[0m\n",
            "Installing collected packages: keras\n",
            "Successfully installed keras-2.0.3\n"
          ],
          "name": "stdout"
        }
      ]
    },
    {
      "cell_type": "code",
      "metadata": {
        "id": "CK2U3LTN-im7",
        "colab_type": "code",
        "colab": {}
      },
      "source": [
        "#UNZIP THE DATA\n",
        "import zipfile\n",
        "\n",
        "zip_ref = zipfile.ZipFile(\"/content/drive/My Drive/Internship - sample damage labelling 600 images.zip\", 'r') #read from zip location\n",
        "zip_ref.extractall(\"/content/files\") #upzip at new location\n",
        "zip_ref.close()"
      ],
      "execution_count": 0,
      "outputs": []
    },
    {
      "cell_type": "code",
      "metadata": {
        "id": "9JomOyoCeQqj",
        "colab_type": "code",
        "colab": {}
      },
      "source": [
        "#!rm -r \"/content/files/Internship/train_images\""
      ],
      "execution_count": 0,
      "outputs": []
    },
    {
      "cell_type": "code",
      "metadata": {
        "id": "vEOZdOS5blsl",
        "colab_type": "code",
        "colab": {}
      },
      "source": [
        "#Get images information group by 'Dent' and 'Scratch_or_spot' classes beacuse other classes have less data\n",
        "from xml.dom import minidom\n",
        "import pandas as pd\n",
        "import os\n",
        "\n",
        "df_cols = [\"filename\", \"class\", \"xmin\", \"ymin\", \"xmax\", \"ymax\"]\n",
        "out_df = pd.DataFrame(columns = df_cols)\n",
        "\n",
        "\n",
        "for i in (os.listdir(\"/content/files/Internship/annot_chem4\")):\n",
        "  anno_name=\"/content/files/Internship/annot_chem4/\"+i\n",
        "  parsedXML = minidom.parse(anno_name)\n",
        "  try:\n",
        "    if(parsedXML.getElementsByTagName('name')[0].firstChild.data == 'Dent' or parsedXML.getElementsByTagName('name')[0].firstChild.data == 'Scratch_or_spot'):\n",
        "      try:\n",
        "        image_name = parsedXML.getElementsByTagName(\"filename\")[0].firstChild.data\n",
        "        class_name = parsedXML.getElementsByTagName(\"name\")[0].firstChild.data\n",
        " \n",
        "        xmin = parsedXML.getElementsByTagName(\"xmin\")[0].firstChild.data \n",
        "        ymin = parsedXML.getElementsByTagName(\"ymin\")[0].firstChild.data\n",
        "        xmax = parsedXML.getElementsByTagName(\"xmax\")[0].firstChild.data\n",
        "        ymax = parsedXML.getElementsByTagName(\"ymax\")[0].firstChild.data\n",
        "      except IndexError:\n",
        "        xmin=0\n",
        "        ymin=0\n",
        "        xmax=0\n",
        "        ymax=0\n",
        "      out_df = out_df.append(pd.Series([image_name,class_name,xmin,ymin,xmax,ymax], index = df_cols), ignore_index=True)  \n",
        "  except:\n",
        "      pass\n",
        "  "
      ],
      "execution_count": 0,
      "outputs": []
    },
    {
      "cell_type": "code",
      "metadata": {
        "id": "W8YpB8h8gfcd",
        "colab_type": "code",
        "outputId": "929e263f-686f-478d-b7b7-89206f8e90f5",
        "colab": {
          "base_uri": "https://localhost:8080/",
          "height": 35
        }
      },
      "source": [
        "out_df.shape"
      ],
      "execution_count": 5,
      "outputs": [
        {
          "output_type": "execute_result",
          "data": {
            "text/plain": [
              "(246, 6)"
            ]
          },
          "metadata": {
            "tags": []
          },
          "execution_count": 5
        }
      ]
    },
    {
      "cell_type": "code",
      "metadata": {
        "id": "svYaYwQEk7Ov",
        "colab_type": "code",
        "colab": {}
      },
      "source": [
        "out_df_train"
      ],
      "execution_count": 0,
      "outputs": []
    },
    {
      "cell_type": "code",
      "metadata": {
        "id": "e7gybikieV_N",
        "colab_type": "code",
        "outputId": "582a8651-8d14-4d4e-c60a-578133693c01",
        "colab": {
          "base_uri": "https://localhost:8080/",
          "height": 72
        }
      },
      "source": [
        "out_df['class'].value_counts()"
      ],
      "execution_count": 6,
      "outputs": [
        {
          "output_type": "execute_result",
          "data": {
            "text/plain": [
              "Scratch_or_spot    136\n",
              "Dent               110\n",
              "Name: class, dtype: int64"
            ]
          },
          "metadata": {
            "tags": []
          },
          "execution_count": 6
        }
      ]
    },
    {
      "cell_type": "code",
      "metadata": {
        "id": "sK2kBiPIclCu",
        "colab_type": "code",
        "colab": {}
      },
      "source": [
        "out_df_train=out_df[0:196].copy()\n",
        "out_df_test=out_df[196:246].copy()"
      ],
      "execution_count": 0,
      "outputs": []
    },
    {
      "cell_type": "code",
      "metadata": {
        "id": "FpMMHYZuc_N2",
        "colab_type": "code",
        "colab": {}
      },
      "source": [
        ""
      ],
      "execution_count": 0,
      "outputs": []
    },
    {
      "cell_type": "code",
      "metadata": {
        "id": "O0ZyCuxOeynE",
        "colab_type": "code",
        "colab": {}
      },
      "source": [
        "#Divide data into train and test\n",
        "import os\n",
        "import random\n",
        "import shutil\n",
        "import numpy as np\n",
        "\n",
        "\n",
        "os.makedirs(\"/content/files/Internship/train_images\")\n",
        "os.makedirs(\"/content/files/Internship/test_images\")\n",
        "\n",
        "for i in out_df['filename']:\n",
        "  temp=0\n",
        "  for j in out_df_test['filename']:\n",
        "    if (j==i):\n",
        "      shutil.copy(\"/content/files/Internship/images_chem4/\"+str(i),\"/content/files/Internship/test_images\")\n",
        "      temp=1\n",
        "  if(temp==0):\n",
        "    shutil.copy(\"/content/files/Internship/images_chem4/\"+str(i),\"/content/files/Internship/train_images\")\n",
        "\n"
      ],
      "execution_count": 0,
      "outputs": []
    },
    {
      "cell_type": "code",
      "metadata": {
        "id": "0ik_BukXxy9l",
        "colab_type": "code",
        "colab": {
          "base_uri": "https://localhost:8080/",
          "height": 35
        },
        "outputId": "07577dd6-0efe-4f21-8af2-df60182e4cef"
      },
      "source": [
        "!pwd"
      ],
      "execution_count": 55,
      "outputs": [
        {
          "output_type": "stream",
          "text": [
            "/content/keras-frcnn\n"
          ],
          "name": "stdout"
        }
      ]
    },
    {
      "cell_type": "code",
      "metadata": {
        "id": "rSs9J5ykFkj5",
        "colab_type": "code",
        "colab": {}
      },
      "source": [
        "#Save train images information into 'train.csv'\n",
        "out_df_train.to_csv(\"train.csv\", index=False, encoding='utf-8')"
      ],
      "execution_count": 0,
      "outputs": []
    },
    {
      "cell_type": "code",
      "metadata": {
        "id": "61ddXt7Xm1oG",
        "colab_type": "code",
        "outputId": "759b1501-2443-4736-9b22-7b635ecc32fd",
        "colab": {
          "base_uri": "https://localhost:8080/",
          "height": 108
        }
      },
      "source": [
        "#Clone FCRNN repository\n",
        "!git clone https://github.com/kbardool/keras-frcnn.git"
      ],
      "execution_count": 9,
      "outputs": [
        {
          "output_type": "stream",
          "text": [
            "Cloning into 'keras-frcnn'...\n",
            "remote: Enumerating objects: 589, done.\u001b[K\n",
            "Receiving objects:   0% (1/589)   \rReceiving objects:   1% (6/589)   \rReceiving objects:   2% (12/589)   \rReceiving objects:   3% (18/589)   \rReceiving objects:   4% (24/589)   \rReceiving objects:   5% (30/589)   \rReceiving objects:   6% (36/589)   \rReceiving objects:   7% (42/589)   \rReceiving objects:   8% (48/589)   \rReceiving objects:   9% (54/589)   \rReceiving objects:  10% (59/589)   \rReceiving objects:  11% (65/589)   \rReceiving objects:  12% (71/589)   \rReceiving objects:  13% (77/589)   \rReceiving objects:  14% (83/589)   \rReceiving objects:  15% (89/589)   \rReceiving objects:  16% (95/589)   \rReceiving objects:  17% (101/589)   \rReceiving objects:  18% (107/589)   \rReceiving objects:  19% (112/589)   \rReceiving objects:  20% (118/589)   \rReceiving objects:  21% (124/589)   \rReceiving objects:  22% (130/589)   \rReceiving objects:  23% (136/589)   \rReceiving objects:  24% (142/589)   \rReceiving objects:  25% (148/589)   \rReceiving objects:  26% (154/589)   \rReceiving objects:  27% (160/589)   \rReceiving objects:  28% (165/589)   \rReceiving objects:  29% (171/589)   \rReceiving objects:  30% (177/589)   \rReceiving objects:  31% (183/589)   \rReceiving objects:  32% (189/589)   \rReceiving objects:  33% (195/589)   \rReceiving objects:  34% (201/589)   \rReceiving objects:  35% (207/589)   \rReceiving objects:  36% (213/589)   \rReceiving objects:  37% (218/589)   \rReceiving objects:  38% (224/589)   \rReceiving objects:  39% (230/589)   \rReceiving objects:  40% (236/589)   \rReceiving objects:  41% (242/589)   \rReceiving objects:  42% (248/589)   \rReceiving objects:  43% (254/589)   \rReceiving objects:  44% (260/589)   \rReceiving objects:  45% (266/589)   \rReceiving objects:  46% (271/589)   \rReceiving objects:  47% (277/589)   \rReceiving objects:  48% (283/589)   \rReceiving objects:  49% (289/589)   \rReceiving objects:  50% (295/589)   \rReceiving objects:  51% (301/589)   \rReceiving objects:  52% (307/589)   \rReceiving objects:  53% (313/589)   \rReceiving objects:  54% (319/589)   \rReceiving objects:  55% (324/589)   \rReceiving objects:  56% (330/589)   \rReceiving objects:  57% (336/589)   \rReceiving objects:  58% (342/589)   \rReceiving objects:  59% (348/589)   \rReceiving objects:  60% (354/589)   \rReceiving objects:  61% (360/589)   \rReceiving objects:  62% (366/589)   \rReceiving objects:  63% (372/589)   \rReceiving objects:  64% (377/589)   \rReceiving objects:  65% (383/589)   \rReceiving objects:  66% (389/589)   \rReceiving objects:  67% (395/589)   \rReceiving objects:  68% (401/589)   \rReceiving objects:  69% (407/589)   \rReceiving objects:  70% (413/589)   \rReceiving objects:  71% (419/589)   \rReceiving objects:  72% (425/589)   \rReceiving objects:  73% (430/589)   \rReceiving objects:  74% (436/589)   \rReceiving objects:  75% (442/589)   \rReceiving objects:  76% (448/589)   \rReceiving objects:  77% (454/589)   \rReceiving objects:  78% (460/589)   \rReceiving objects:  79% (466/589)   \rReceiving objects:  80% (472/589)   \rReceiving objects:  81% (478/589)   \rReceiving objects:  82% (483/589)   \rReceiving objects:  83% (489/589)   \rReceiving objects:  84% (495/589)   \rReceiving objects:  85% (501/589)   \rReceiving objects:  86% (507/589)   \rReceiving objects:  87% (513/589)   \rremote: Total 589 (delta 0), reused 0 (delta 0), pack-reused 589\u001b[K\n",
            "Receiving objects:  88% (519/589)   \rReceiving objects:  89% (525/589)   \rReceiving objects:  90% (531/589)   \rReceiving objects:  91% (536/589)   \rReceiving objects:  92% (542/589)   \rReceiving objects:  93% (548/589)   \rReceiving objects:  94% (554/589)   \rReceiving objects:  95% (560/589)   \rReceiving objects:  96% (566/589)   \rReceiving objects:  97% (572/589)   \rReceiving objects:  98% (578/589)   \rReceiving objects:  99% (584/589)   \rReceiving objects: 100% (589/589)   \rReceiving objects: 100% (589/589), 178.49 KiB | 830.00 KiB/s, done.\n",
            "Resolving deltas:   0% (0/396)   \rResolving deltas:   5% (23/396)   \rResolving deltas:   8% (33/396)   \rResolving deltas:  10% (40/396)   \rResolving deltas:  13% (53/396)   \rResolving deltas:  17% (71/396)   \rResolving deltas:  20% (83/396)   \rResolving deltas:  34% (136/396)   \rResolving deltas:  36% (146/396)   \rResolving deltas:  37% (150/396)   \rResolving deltas:  38% (151/396)   \rResolving deltas:  40% (162/396)   \rResolving deltas:  43% (172/396)   \rResolving deltas:  44% (175/396)   \rResolving deltas:  50% (200/396)   \rResolving deltas:  52% (209/396)   \rResolving deltas:  56% (222/396)   \rResolving deltas:  58% (232/396)   \rResolving deltas:  60% (238/396)   \rResolving deltas:  61% (243/396)   \rResolving deltas:  62% (247/396)   \rResolving deltas:  67% (267/396)   \rResolving deltas:  68% (271/396)   \rResolving deltas:  75% (300/396)   \rResolving deltas:  81% (322/396)   \rResolving deltas:  84% (333/396)   \rResolving deltas:  90% (357/396)   \rResolving deltas:  96% (383/396)   \rResolving deltas: 100% (396/396)   \rResolving deltas: 100% (396/396), done.\n"
          ],
          "name": "stdout"
        }
      ]
    },
    {
      "cell_type": "code",
      "metadata": {
        "id": "9Sd8eGgzFUHF",
        "colab_type": "code",
        "colab": {}
      },
      "source": [
        "#Copy to keras-frcnn folder"
      ],
      "execution_count": 0,
      "outputs": []
    },
    {
      "cell_type": "code",
      "metadata": {
        "id": "ZqvR4nduy2LM",
        "colab_type": "code",
        "outputId": "11a36a82-609b-48d7-f82f-463bc1027245",
        "colab": {
          "base_uri": "https://localhost:8080/",
          "height": 35
        }
      },
      "source": [
        "shutil.move(\"/content/train.csv\",\"/content/keras-frcnn\")"
      ],
      "execution_count": 10,
      "outputs": [
        {
          "output_type": "execute_result",
          "data": {
            "text/plain": [
              "'/content/keras-frcnn/train.csv'"
            ]
          },
          "metadata": {
            "tags": []
          },
          "execution_count": 10
        }
      ]
    },
    {
      "cell_type": "code",
      "metadata": {
        "id": "f3AgL6ofaIol",
        "colab_type": "code",
        "outputId": "075cc91b-0de1-472a-e8a9-097252781d2f",
        "colab": {
          "base_uri": "https://localhost:8080/",
          "height": 35
        }
      },
      "source": [
        "shutil.move(\"/content/files/Internship/train_images\",\"/content/keras-frcnn\")"
      ],
      "execution_count": 11,
      "outputs": [
        {
          "output_type": "execute_result",
          "data": {
            "text/plain": [
              "'/content/keras-frcnn/train_images'"
            ]
          },
          "metadata": {
            "tags": []
          },
          "execution_count": 11
        }
      ]
    },
    {
      "cell_type": "code",
      "metadata": {
        "id": "ghSAJjhWaYUq",
        "colab_type": "code",
        "outputId": "1ca95c6b-bd63-41f3-be7b-17e2997f33a9",
        "colab": {
          "base_uri": "https://localhost:8080/",
          "height": 35
        }
      },
      "source": [
        "shutil.move(\"/content/files/Internship/test_images\",\"/content/keras-frcnn\")"
      ],
      "execution_count": 12,
      "outputs": [
        {
          "output_type": "execute_result",
          "data": {
            "text/plain": [
              "'/content/keras-frcnn/test_images'"
            ]
          },
          "metadata": {
            "tags": []
          },
          "execution_count": 12
        }
      ]
    },
    {
      "cell_type": "code",
      "metadata": {
        "id": "ZmqII8VvtevY",
        "colab_type": "code",
        "outputId": "cc1af407-7fed-42eb-e523-0c6c1a27f3b6",
        "colab": {
          "base_uri": "https://localhost:8080/",
          "height": 35
        }
      },
      "source": [
        "%cd \"/content/keras-frcnn\""
      ],
      "execution_count": 14,
      "outputs": [
        {
          "output_type": "stream",
          "text": [
            "/content/keras-frcnn\n"
          ],
          "name": "stdout"
        }
      ]
    },
    {
      "cell_type": "code",
      "metadata": {
        "id": "5494WLhhdODj",
        "colab_type": "code",
        "colab": {}
      },
      "source": [
        "#Pretrained weight\n",
        "shutil.move(\"/content/drive/My Drive/model_frcnn.hdf5\",\"/content/keras-frcnn\")"
      ],
      "execution_count": 0,
      "outputs": []
    },
    {
      "cell_type": "code",
      "metadata": {
        "id": "y_Qmdj4BahFr",
        "colab_type": "code",
        "colab": {}
      },
      "source": [
        "#Make a config file \"annotate.txt\" for training\n",
        "train = pd.read_csv(\"train.csv\")\n",
        "data = pd.DataFrame()\n",
        "data[\"format\"] = train[\"filename\"]\n",
        "\n",
        "# add xmin, ymin, xmax, ymax and class as per the format required\n",
        "for i in range(data.shape[0]):\n",
        "    data[\"format\"][i] = \"train_images/\" + str(data[\"format\"][i]) + \",\" + str(train[\"xmin\"][i]) + \",\" + str(train[\"ymin\"][i]) + \",\" + str(train[\"xmax\"][i]) + \",\" + str(train[\"ymax\"][i]) + \",\" + train[\"class\"][i]\n",
        "\n",
        "data.to_csv(\"annotate.txt\", header=None, index=None, sep=\" \")"
      ],
      "execution_count": 0,
      "outputs": []
    },
    {
      "cell_type": "code",
      "metadata": {
        "id": "d__gWFjiXgjy",
        "colab_type": "code",
        "colab": {}
      },
      "source": [
        "  "
      ],
      "execution_count": 0,
      "outputs": []
    },
    {
      "cell_type": "code",
      "metadata": {
        "id": "kfMXMYgugzCh",
        "colab_type": "code",
        "colab": {
          "base_uri": "https://localhost:8080/",
          "height": 35
        },
        "outputId": "c31d57ad-5af8-4998-e7f7-8a5edd0b9d3d"
      },
      "source": [
        "train.shape"
      ],
      "execution_count": 20,
      "outputs": [
        {
          "output_type": "execute_result",
          "data": {
            "text/plain": [
              "(196, 6)"
            ]
          },
          "metadata": {
            "tags": []
          },
          "execution_count": 20
        }
      ]
    },
    {
      "cell_type": "code",
      "metadata": {
        "id": "DC7haxI3P913",
        "colab_type": "code",
        "colab": {}
      },
      "source": [
        "#Change itterations of epochs\n",
        "!sed -i -- 's/epoch_length = 1000/epoch_length = 50/g' train_frcnn.py"
      ],
      "execution_count": 0,
      "outputs": []
    },
    {
      "cell_type": "code",
      "metadata": {
        "id": "ynaWudSWgLOD",
        "colab_type": "code",
        "colab": {
          "base_uri": "https://localhost:8080/",
          "height": 1000
        },
        "outputId": "cb724fbf-fa2d-4a2c-d7c3-da3d87903dc9"
      },
      "source": [
        "#TRAIN\n",
        "!python train_frcnn.py -o simple -p annotate.txt --num_epochs 10 --hf True --vf True --input_weight_path model_frcnn.hdf5"
      ],
      "execution_count": 22,
      "outputs": [
        {
          "output_type": "stream",
          "text": [
            "Using TensorFlow backend.\n",
            "Parsing annotation files\n",
            "Training images per class:\n",
            "{'Dent': 90, 'Scratch_or_spot': 106, 'bg': 0}\n",
            "Num classes (including bg) = 3\n",
            "Config has been written to config.pickle, and can be loaded when testing to ensure correct results\n",
            "Num train samples 164\n",
            "Num val samples 32\n",
            "WARNING: Logging before flag parsing goes to stderr.\n",
            "W0710 20:08:59.031496 140414486972288 deprecation_wrapper.py:119] From /usr/local/lib/python3.6/dist-packages/keras/backend/tensorflow_backend.py:47: The name tf.get_default_graph is deprecated. Please use tf.compat.v1.get_default_graph instead.\n",
            "\n",
            "W0710 20:08:59.032483 140414486972288 deprecation_wrapper.py:119] From /usr/local/lib/python3.6/dist-packages/keras/backend/tensorflow_backend.py:351: The name tf.placeholder is deprecated. Please use tf.compat.v1.placeholder instead.\n",
            "\n",
            "W0710 20:08:59.038101 140414486972288 deprecation_wrapper.py:119] From /usr/local/lib/python3.6/dist-packages/keras/backend/tensorflow_backend.py:3176: The name tf.random_uniform is deprecated. Please use tf.random.uniform instead.\n",
            "\n",
            "W0710 20:08:59.080283 140414486972288 deprecation_wrapper.py:119] From /usr/local/lib/python3.6/dist-packages/keras/backend/tensorflow_backend.py:3043: The name tf.nn.max_pool is deprecated. Please use tf.nn.max_pool2d instead.\n",
            "\n",
            "W0710 20:09:00.928725 140414486972288 deprecation_wrapper.py:119] From /usr/local/lib/python3.6/dist-packages/keras/backend/tensorflow_backend.py:3153: The name tf.random_normal is deprecated. Please use tf.random.normal instead.\n",
            "\n",
            "W0710 20:09:00.984644 140414486972288 deprecation_wrapper.py:119] From /content/keras-frcnn/keras_frcnn/RoiPoolingConv.py:105: The name tf.image.resize_images is deprecated. Please use tf.image.resize instead.\n",
            "\n",
            "W0710 20:09:02.417944 140414486972288 deprecation_wrapper.py:119] From /usr/local/lib/python3.6/dist-packages/keras/backend/tensorflow_backend.py:3045: The name tf.nn.avg_pool is deprecated. Please use tf.nn.avg_pool2d instead.\n",
            "\n",
            "W0710 20:09:02.426128 140414486972288 deprecation.py:506] From /usr/local/lib/python3.6/dist-packages/keras/backend/tensorflow_backend.py:1064: calling reduce_prod_v1 (from tensorflow.python.ops.math_ops) with keep_dims is deprecated and will be removed in a future version.\n",
            "Instructions for updating:\n",
            "keep_dims is deprecated, use keepdims instead\n",
            "loading weights from model_frcnn.hdf5\n",
            "W0710 20:09:03.078818 140414486972288 deprecation_wrapper.py:119] From /usr/local/lib/python3.6/dist-packages/keras/backend/tensorflow_backend.py:141: The name tf.get_default_session is deprecated. Please use tf.compat.v1.get_default_session instead.\n",
            "\n",
            "2019-07-10 20:09:03.086331: I tensorflow/core/platform/profile_utils/cpu_utils.cc:94] CPU Frequency: 2300000000 Hz\n",
            "2019-07-10 20:09:03.086681: I tensorflow/compiler/xla/service/service.cc:168] XLA service 0xbec81c0 executing computations on platform Host. Devices:\n",
            "2019-07-10 20:09:03.086724: I tensorflow/compiler/xla/service/service.cc:175]   StreamExecutor device (0): <undefined>, <undefined>\n",
            "2019-07-10 20:09:03.089776: I tensorflow/stream_executor/platform/default/dso_loader.cc:42] Successfully opened dynamic library libcuda.so.1\n",
            "2019-07-10 20:09:03.194801: I tensorflow/stream_executor/cuda/cuda_gpu_executor.cc:1005] successful NUMA node read from SysFS had negative value (-1), but there must be at least one NUMA node, so returning NUMA node zero\n",
            "2019-07-10 20:09:03.195405: I tensorflow/compiler/xla/service/service.cc:168] XLA service 0xbec8540 executing computations on platform CUDA. Devices:\n",
            "2019-07-10 20:09:03.195444: I tensorflow/compiler/xla/service/service.cc:175]   StreamExecutor device (0): Tesla K80, Compute Capability 3.7\n",
            "2019-07-10 20:09:03.195752: I tensorflow/stream_executor/cuda/cuda_gpu_executor.cc:1005] successful NUMA node read from SysFS had negative value (-1), but there must be at least one NUMA node, so returning NUMA node zero\n",
            "2019-07-10 20:09:03.196153: I tensorflow/core/common_runtime/gpu/gpu_device.cc:1640] Found device 0 with properties: \n",
            "name: Tesla K80 major: 3 minor: 7 memoryClockRate(GHz): 0.8235\n",
            "pciBusID: 0000:00:04.0\n",
            "2019-07-10 20:09:03.196678: I tensorflow/stream_executor/platform/default/dso_loader.cc:42] Successfully opened dynamic library libcudart.so.10.0\n",
            "2019-07-10 20:09:03.198477: I tensorflow/stream_executor/platform/default/dso_loader.cc:42] Successfully opened dynamic library libcublas.so.10.0\n",
            "2019-07-10 20:09:03.210204: I tensorflow/stream_executor/platform/default/dso_loader.cc:42] Successfully opened dynamic library libcufft.so.10.0\n",
            "2019-07-10 20:09:03.210839: I tensorflow/stream_executor/platform/default/dso_loader.cc:42] Successfully opened dynamic library libcurand.so.10.0\n",
            "2019-07-10 20:09:03.212955: I tensorflow/stream_executor/platform/default/dso_loader.cc:42] Successfully opened dynamic library libcusolver.so.10.0\n",
            "2019-07-10 20:09:03.224133: I tensorflow/stream_executor/platform/default/dso_loader.cc:42] Successfully opened dynamic library libcusparse.so.10.0\n",
            "2019-07-10 20:09:03.239642: I tensorflow/stream_executor/platform/default/dso_loader.cc:42] Successfully opened dynamic library libcudnn.so.7\n",
            "2019-07-10 20:09:03.240051: I tensorflow/stream_executor/cuda/cuda_gpu_executor.cc:1005] successful NUMA node read from SysFS had negative value (-1), but there must be at least one NUMA node, so returning NUMA node zero\n",
            "2019-07-10 20:09:03.240837: I tensorflow/stream_executor/cuda/cuda_gpu_executor.cc:1005] successful NUMA node read from SysFS had negative value (-1), but there must be at least one NUMA node, so returning NUMA node zero\n",
            "2019-07-10 20:09:03.241349: I tensorflow/core/common_runtime/gpu/gpu_device.cc:1763] Adding visible gpu devices: 0\n",
            "2019-07-10 20:09:03.241558: I tensorflow/stream_executor/platform/default/dso_loader.cc:42] Successfully opened dynamic library libcudart.so.10.0\n",
            "2019-07-10 20:09:03.243148: I tensorflow/core/common_runtime/gpu/gpu_device.cc:1181] Device interconnect StreamExecutor with strength 1 edge matrix:\n",
            "2019-07-10 20:09:03.243194: I tensorflow/core/common_runtime/gpu/gpu_device.cc:1187]      0 \n",
            "2019-07-10 20:09:03.243220: I tensorflow/core/common_runtime/gpu/gpu_device.cc:1200] 0:   N \n",
            "2019-07-10 20:09:03.243745: I tensorflow/stream_executor/cuda/cuda_gpu_executor.cc:1005] successful NUMA node read from SysFS had negative value (-1), but there must be at least one NUMA node, so returning NUMA node zero\n",
            "2019-07-10 20:09:03.244427: I tensorflow/stream_executor/cuda/cuda_gpu_executor.cc:1005] successful NUMA node read from SysFS had negative value (-1), but there must be at least one NUMA node, so returning NUMA node zero\n",
            "2019-07-10 20:09:03.244924: W tensorflow/core/common_runtime/gpu/gpu_bfc_allocator.cc:40] Overriding allow_growth setting because the TF_FORCE_GPU_ALLOW_GROWTH environment variable is set. Original config value was 0.\n",
            "2019-07-10 20:09:03.245017: I tensorflow/core/common_runtime/gpu/gpu_device.cc:1326] Created TensorFlow device (/job:localhost/replica:0/task:0/device:GPU:0 with 10802 MB memory) -> physical GPU (device: 0, name: Tesla K80, pci bus id: 0000:00:04.0, compute capability: 3.7)\n",
            "W0710 20:09:06.123094 140414486972288 deprecation_wrapper.py:119] From /usr/local/lib/python3.6/dist-packages/keras/optimizers.py:675: The name tf.train.Optimizer is deprecated. Please use tf.compat.v1.train.Optimizer instead.\n",
            "\n",
            "W0710 20:09:06.142208 140414486972288 deprecation.py:323] From /usr/local/lib/python3.6/dist-packages/tensorflow/python/ops/nn_impl.py:180: add_dispatch_support.<locals>.wrapper (from tensorflow.python.ops.array_ops) is deprecated and will be removed in a future version.\n",
            "Instructions for updating:\n",
            "Use tf.where in 2.0, which has the same broadcast rule as np.where\n",
            "W0710 20:09:06.148284 140414486972288 deprecation.py:506] From /usr/local/lib/python3.6/dist-packages/keras/backend/tensorflow_backend.py:1046: calling reduce_sum_v1 (from tensorflow.python.ops.math_ops) with keep_dims is deprecated and will be removed in a future version.\n",
            "Instructions for updating:\n",
            "keep_dims is deprecated, use keepdims instead\n",
            "Starting training\n",
            "Epoch 1/10\n",
            "W0710 20:09:08.029144 140414486972288 deprecation.py:506] From /usr/local/lib/python3.6/dist-packages/keras/backend/tensorflow_backend.py:521: calling Constant.__init__ (from tensorflow.python.ops.init_ops) with dtype is deprecated and will be removed in a future version.\n",
            "Instructions for updating:\n",
            "Call initializer instance with the dtype argument instead of passing it to the constructor\n",
            "2019-07-10 20:09:16.090139: I tensorflow/stream_executor/platform/default/dso_loader.cc:42] Successfully opened dynamic library libcudnn.so.7\n",
            "2019-07-10 20:09:39.492599: I tensorflow/stream_executor/platform/default/dso_loader.cc:42] Successfully opened dynamic library libcublas.so.10.0\n",
            "39/50 [======================>.......] - ETA: 25s - rpn_cls: 0.4799 - rpn_regr: 0.2598 - detector_cls: 0.0818 - detector_regr: 0.1675Average number of overlapping bounding boxes from RPN = 0.3 for 50 previous iterations\n",
            "50/50 [==============================] - 103s - rpn_cls: 0.4621 - rpn_regr: 0.2460 - detector_cls: 0.0957 - detector_regr: 0.1828   \n",
            "Mean number of bounding boxes from RPN overlapping ground truth boxes: 0.3709677419354839\n",
            "Classifier accuracy for bounding boxes from RPN: 0.985625\n",
            "Loss RPN classifier: 0.46207419865531846\n",
            "Loss RPN regression: 0.24598056558519601\n",
            "Loss Detector classifier: 0.09571121896280146\n",
            "Loss Detector regression: 0.18282902479171753\n",
            "Elapsed time: 103.95212721824646\n",
            "Total loss decreased from inf to 0.9865950079950334, saving weights\n",
            "Epoch 2/10\n",
            "34/50 [===================>..........] - ETA: 19s - rpn_cls: 0.4111 - rpn_regr: 0.2434 - detector_cls: 0.0322 - detector_regr: 0.0177Average number of overlapping bounding boxes from RPN = 0.24 for 50 previous iterations\n",
            "50/50 [==============================] - 65s - rpn_cls: 0.3985 - rpn_regr: 0.2570 - detector_cls: 0.0352 - detector_regr: 0.0396    \n",
            "Mean number of bounding boxes from RPN overlapping ground truth boxes: 0.1\n",
            "Classifier accuracy for bounding boxes from RPN: 0.99625\n",
            "Loss RPN classifier: 0.3985150696570054\n",
            "Loss RPN regression: 0.2569801805913448\n",
            "Loss Detector classifier: 0.03519693141799508\n",
            "Loss Detector regression: 0.03956326961517334\n",
            "Elapsed time: 93.7969262599945\n",
            "Total loss decreased from 0.9865950079950334 to 0.7302554512815186, saving weights\n",
            "Epoch 3/10\n",
            "24/50 [=============>................] - ETA: 32s - rpn_cls: 0.5723 - rpn_regr: 0.2384 - detector_cls: 0.0732 - detector_regr: 0.1043Average number of overlapping bounding boxes from RPN = 0.22 for 50 previous iterations\n",
            "50/50 [==============================] - 62s - rpn_cls: 0.5755 - rpn_regr: 0.2495 - detector_cls: 0.0556 - detector_regr: 0.0619    \n",
            "Mean number of bounding boxes from RPN overlapping ground truth boxes: 0.22413793103448276\n",
            "Classifier accuracy for bounding boxes from RPN: 0.991875\n",
            "Loss RPN classifier: 0.5755119148734957\n",
            "Loss RPN regression: 0.2495446186326444\n",
            "Loss Detector classifier: 0.05560712809870893\n",
            "Loss Detector regression: 0.06192080408334732\n",
            "Elapsed time: 63.58831524848938\n",
            "Epoch 4/10\n",
            "13/50 [======>.......................] - ETA: 58s - rpn_cls: 0.3632 - rpn_regr: 0.2034 - detector_cls: 0.1111 - detector_regr: 0.1887Average number of overlapping bounding boxes from RPN = 0.2 for 50 previous iterations\n",
            "50/50 [==============================] - 66s - rpn_cls: 0.4060 - rpn_regr: 0.2699 - detector_cls: 0.0613 - detector_regr: 0.0990    \n",
            "Mean number of bounding boxes from RPN overlapping ground truth boxes: 0.1935483870967742\n",
            "Classifier accuracy for bounding boxes from RPN: 0.9925\n",
            "Loss RPN classifier: 0.4059690740192309\n",
            "Loss RPN regression: 0.26989024395123123\n",
            "Loss Detector classifier: 0.06128514474272407\n",
            "Loss Detector regression: 0.09895718395709992\n",
            "Elapsed time: 66.71771049499512\n",
            "Epoch 5/10\n",
            " 7/50 [===>..........................] - ETA: 54s - rpn_cls: 0.8029 - rpn_regr: 0.1008 - detector_cls: 0.1071 - detector_regr: 0.1659Average number of overlapping bounding boxes from RPN = 0.16 for 50 previous iterations\n",
            "50/50 [==============================] - 63s - rpn_cls: 0.4630 - rpn_regr: 0.2269 - detector_cls: 0.0804 - detector_regr: 0.1052    \n",
            "Mean number of bounding boxes from RPN overlapping ground truth boxes: 0.2413793103448276\n",
            "Classifier accuracy for bounding boxes from RPN: 0.99125\n",
            "Loss RPN classifier: 0.4629896829463542\n",
            "Loss RPN regression: 0.22690011500380933\n",
            "Loss Detector classifier: 0.08040481586474925\n",
            "Loss Detector regression: 0.10522431313991547\n",
            "Elapsed time: 63.33437490463257\n",
            "Epoch 6/10\n",
            "Average number of overlapping bounding boxes from RPN = 0.24 for 50 previous iterations\n",
            "47/50 [===========================>..] - ETA: 3s - rpn_cls: 0.3522 - rpn_regr: 0.2503 - detector_cls: 0.0582 - detector_regr: 0.0764Average number of overlapping bounding boxes from RPN = 0.24 for 50 previous iterations\n",
            "50/50 [==============================] - 61s - rpn_cls: 0.3447 - rpn_regr: 0.2456 - detector_cls: 0.0586 - detector_regr: 0.0827    \n",
            "Mean number of bounding boxes from RPN overlapping ground truth boxes: 0.23636363636363636\n",
            "Classifier accuracy for bounding boxes from RPN: 0.991875\n",
            "Loss RPN classifier: 0.34471923095174134\n",
            "Loss RPN regression: 0.24556711429730058\n",
            "Loss Detector classifier: 0.058555292866112725\n",
            "Loss Detector regression: 0.08270387947559357\n",
            "Elapsed time: 61.20321989059448\n",
            "Epoch 7/10\n",
            "41/50 [=======================>......] - ETA: 11s - rpn_cls: 0.3829 - rpn_regr: 0.2784 - detector_cls: 0.1183 - detector_regr: 0.1334Average number of overlapping bounding boxes from RPN = 0.46 for 50 previous iterations\n",
            "46/50 [==========================>...] - ETA: 4s - rpn_cls: 0.4077 - rpn_regr: 0.2681 - detector_cls: 0.1077 - detector_regr: 0.1189Exception: 'a' cannot be empty unless no samples are taken\n",
            "50/50 [==============================] - 61s - rpn_cls: 0.4245 - rpn_regr: 0.2622 - detector_cls: 0.1050 - detector_regr: 0.1193    \n",
            "Mean number of bounding boxes from RPN overlapping ground truth boxes: 0.43636363636363634\n",
            "Classifier accuracy for bounding boxes from RPN: 0.985625\n",
            "Loss RPN classifier: 0.42454089227132497\n",
            "Loss RPN regression: 0.2621704273065552\n",
            "Loss Detector classifier: 0.10496462408220396\n",
            "Loss Detector regression: 0.11927776396274567\n",
            "Elapsed time: 61.421220541000366\n",
            "Epoch 8/10\n",
            "35/50 [====================>.........] - ETA: 18s - rpn_cls: 0.3479 - rpn_regr: 0.2157 - detector_cls: 0.0983 - detector_regr: 0.1474Average number of overlapping bounding boxes from RPN = 0.38 for 50 previous iterations\n",
            "50/50 [==============================] - 60s - rpn_cls: 0.3230 - rpn_regr: 0.2339 - detector_cls: 0.0737 - detector_regr: 0.1031    \n",
            "Mean number of bounding boxes from RPN overlapping ground truth boxes: 0.3090909090909091\n",
            "Classifier accuracy for bounding boxes from RPN: 0.989375\n",
            "Loss RPN classifier: 0.3230255715921521\n",
            "Loss RPN regression: 0.2339204590022564\n",
            "Loss Detector classifier: 0.07370321335736663\n",
            "Loss Detector regression: 0.103147012591362\n",
            "Elapsed time: 60.91490817070007\n",
            "Epoch 9/10\n",
            "20/50 [===========>..................] - ETA: 50s - rpn_cls: 0.3246 - rpn_regr: 0.2138 - detector_cls: 0.0254 - detector_regr: 0.0396Average number of overlapping bounding boxes from RPN = 0.04 for 50 previous iterations\n",
            "50/50 [==============================] - 72s - rpn_cls: 0.3099 - rpn_regr: 0.2239 - detector_cls: 0.0434 - detector_regr: 0.0515    \n",
            "Mean number of bounding boxes from RPN overlapping ground truth boxes: 0.12857142857142856\n",
            "Classifier accuracy for bounding boxes from RPN: 0.994375\n",
            "Loss RPN classifier: 0.3098561694077216\n",
            "Loss RPN regression: 0.22390138516202568\n",
            "Loss Detector classifier: 0.04335930992367139\n",
            "Loss Detector regression: 0.05154577404260635\n",
            "Elapsed time: 72.39175939559937\n",
            "Total loss decreased from 0.7302554512815186 to 0.628662638536025, saving weights\n",
            "Epoch 10/10\n",
            "14/50 [=======>......................] - ETA: 43s - rpn_cls: 0.5370 - rpn_regr: 0.2469 - detector_cls: 0.0407 - detector_regr: 0.0164Average number of overlapping bounding boxes from RPN = 0.2 for 50 previous iterations\n",
            "50/50 [==============================] - 59s - rpn_cls: 0.4300 - rpn_regr: 0.2554 - detector_cls: 0.0522 - detector_regr: 0.0470    \n",
            "Mean number of bounding boxes from RPN overlapping ground truth boxes: 0.16981132075471697\n",
            "Classifier accuracy for bounding boxes from RPN: 0.994375\n",
            "Loss RPN classifier: 0.4299733390659094\n",
            "Loss RPN regression: 0.2553987668454647\n",
            "Loss Detector classifier: 0.05215007591701579\n",
            "Loss Detector regression: 0.04695954918861389\n",
            "Elapsed time: 60.37169075012207\n",
            "Training complete, exiting.\n"
          ],
          "name": "stdout"
        }
      ]
    },
    {
      "cell_type": "code",
      "metadata": {
        "id": "4jw--DZ1jnQC",
        "colab_type": "code",
        "colab": {}
      },
      "source": [
        "#Change in test file\n",
        "!sed -i -- 's/cv2.imshow('img', img)/#imshow('img', img)/g' test_frcnn.py\n",
        "!sed -i -- 's/cv2.waitKey(0)/#cv2.waitKey(0)/g' test_frcnn.py\n",
        "!sed -i -- 's/# cv2.imwrite('./results_imgs/{}.png'.format(idx),img)/cv2.imwrite('./results_imgs/{}.png'.format(idx),img)/g' test_frcnn.py"
      ],
      "execution_count": 0,
      "outputs": []
    },
    {
      "cell_type": "code",
      "metadata": {
        "id": "BeaRA_xdbjjB",
        "colab_type": "code",
        "colab": {}
      },
      "source": [
        "#Create result directory \n",
        "import os\n",
        "os.makedirs(\"/content/keras-frcnn/results\")"
      ],
      "execution_count": 0,
      "outputs": []
    },
    {
      "cell_type": "code",
      "metadata": {
        "id": "EEcgp_L6B5ku",
        "colab_type": "code",
        "colab": {}
      },
      "source": [
        "#!rm -r \"/content/keras-frcnn/results\""
      ],
      "execution_count": 0,
      "outputs": []
    },
    {
      "cell_type": "code",
      "metadata": {
        "id": "U9ru-Z7zuLh1",
        "colab_type": "code",
        "outputId": "2ff572d0-3730-40da-d8c6-340804c6531b",
        "colab": {
          "base_uri": "https://localhost:8080/",
          "height": 1000
        }
      },
      "source": [
        "#TEST\n",
        "!python test_frcnn.py -p test_images"
      ],
      "execution_count": 25,
      "outputs": [
        {
          "output_type": "stream",
          "text": [
            "Using TensorFlow backend.\n",
            "{0: 'Scratch_or_spot', 1: 'Dent', 2: 'bg'}\n",
            "WARNING: Logging before flag parsing goes to stderr.\n",
            "W0710 20:21:29.274873 140629155207040 deprecation_wrapper.py:119] From /usr/local/lib/python3.6/dist-packages/keras/backend/tensorflow_backend.py:47: The name tf.get_default_graph is deprecated. Please use tf.compat.v1.get_default_graph instead.\n",
            "\n",
            "W0710 20:21:29.275865 140629155207040 deprecation_wrapper.py:119] From /usr/local/lib/python3.6/dist-packages/keras/backend/tensorflow_backend.py:351: The name tf.placeholder is deprecated. Please use tf.compat.v1.placeholder instead.\n",
            "\n",
            "W0710 20:21:29.281586 140629155207040 deprecation_wrapper.py:119] From /usr/local/lib/python3.6/dist-packages/keras/backend/tensorflow_backend.py:3176: The name tf.random_uniform is deprecated. Please use tf.random.uniform instead.\n",
            "\n",
            "W0710 20:21:29.320688 140629155207040 deprecation_wrapper.py:119] From /usr/local/lib/python3.6/dist-packages/keras/backend/tensorflow_backend.py:3043: The name tf.nn.max_pool is deprecated. Please use tf.nn.max_pool2d instead.\n",
            "\n",
            "W0710 20:21:31.120534 140629155207040 deprecation_wrapper.py:119] From /usr/local/lib/python3.6/dist-packages/keras/backend/tensorflow_backend.py:3153: The name tf.random_normal is deprecated. Please use tf.random.normal instead.\n",
            "\n",
            "W0710 20:21:31.178158 140629155207040 deprecation_wrapper.py:119] From /content/keras-frcnn/keras_frcnn/RoiPoolingConv.py:105: The name tf.image.resize_images is deprecated. Please use tf.image.resize instead.\n",
            "\n",
            "W0710 20:21:32.645928 140629155207040 deprecation_wrapper.py:119] From /usr/local/lib/python3.6/dist-packages/keras/backend/tensorflow_backend.py:3045: The name tf.nn.avg_pool is deprecated. Please use tf.nn.avg_pool2d instead.\n",
            "\n",
            "W0710 20:21:32.654034 140629155207040 deprecation.py:506] From /usr/local/lib/python3.6/dist-packages/keras/backend/tensorflow_backend.py:1064: calling reduce_prod_v1 (from tensorflow.python.ops.math_ops) with keep_dims is deprecated and will be removed in a future version.\n",
            "Instructions for updating:\n",
            "keep_dims is deprecated, use keepdims instead\n",
            "Loading weights from ./model_frcnn.hdf5\n",
            "W0710 20:21:33.302009 140629155207040 deprecation_wrapper.py:119] From /usr/local/lib/python3.6/dist-packages/keras/backend/tensorflow_backend.py:141: The name tf.get_default_session is deprecated. Please use tf.compat.v1.get_default_session instead.\n",
            "\n",
            "2019-07-10 20:21:33.309327: I tensorflow/core/platform/profile_utils/cpu_utils.cc:94] CPU Frequency: 2300000000 Hz\n",
            "2019-07-10 20:21:33.309634: I tensorflow/compiler/xla/service/service.cc:168] XLA service 0xc15c1c0 executing computations on platform Host. Devices:\n",
            "2019-07-10 20:21:33.309673: I tensorflow/compiler/xla/service/service.cc:175]   StreamExecutor device (0): <undefined>, <undefined>\n",
            "2019-07-10 20:21:33.312490: I tensorflow/stream_executor/platform/default/dso_loader.cc:42] Successfully opened dynamic library libcuda.so.1\n",
            "2019-07-10 20:21:33.415939: I tensorflow/stream_executor/cuda/cuda_gpu_executor.cc:1005] successful NUMA node read from SysFS had negative value (-1), but there must be at least one NUMA node, so returning NUMA node zero\n",
            "2019-07-10 20:21:33.416573: I tensorflow/compiler/xla/service/service.cc:168] XLA service 0xc15c540 executing computations on platform CUDA. Devices:\n",
            "2019-07-10 20:21:33.416617: I tensorflow/compiler/xla/service/service.cc:175]   StreamExecutor device (0): Tesla K80, Compute Capability 3.7\n",
            "2019-07-10 20:21:33.416930: I tensorflow/stream_executor/cuda/cuda_gpu_executor.cc:1005] successful NUMA node read from SysFS had negative value (-1), but there must be at least one NUMA node, so returning NUMA node zero\n",
            "2019-07-10 20:21:33.417359: I tensorflow/core/common_runtime/gpu/gpu_device.cc:1640] Found device 0 with properties: \n",
            "name: Tesla K80 major: 3 minor: 7 memoryClockRate(GHz): 0.8235\n",
            "pciBusID: 0000:00:04.0\n",
            "2019-07-10 20:21:33.417815: I tensorflow/stream_executor/platform/default/dso_loader.cc:42] Successfully opened dynamic library libcudart.so.10.0\n",
            "2019-07-10 20:21:33.419715: I tensorflow/stream_executor/platform/default/dso_loader.cc:42] Successfully opened dynamic library libcublas.so.10.0\n",
            "2019-07-10 20:21:33.421258: I tensorflow/stream_executor/platform/default/dso_loader.cc:42] Successfully opened dynamic library libcufft.so.10.0\n",
            "2019-07-10 20:21:33.421703: I tensorflow/stream_executor/platform/default/dso_loader.cc:42] Successfully opened dynamic library libcurand.so.10.0\n",
            "2019-07-10 20:21:33.424014: I tensorflow/stream_executor/platform/default/dso_loader.cc:42] Successfully opened dynamic library libcusolver.so.10.0\n",
            "2019-07-10 20:21:33.425521: I tensorflow/stream_executor/platform/default/dso_loader.cc:42] Successfully opened dynamic library libcusparse.so.10.0\n",
            "2019-07-10 20:21:33.430231: I tensorflow/stream_executor/platform/default/dso_loader.cc:42] Successfully opened dynamic library libcudnn.so.7\n",
            "2019-07-10 20:21:33.430512: I tensorflow/stream_executor/cuda/cuda_gpu_executor.cc:1005] successful NUMA node read from SysFS had negative value (-1), but there must be at least one NUMA node, so returning NUMA node zero\n",
            "2019-07-10 20:21:33.431039: I tensorflow/stream_executor/cuda/cuda_gpu_executor.cc:1005] successful NUMA node read from SysFS had negative value (-1), but there must be at least one NUMA node, so returning NUMA node zero\n",
            "2019-07-10 20:21:33.431433: I tensorflow/core/common_runtime/gpu/gpu_device.cc:1763] Adding visible gpu devices: 0\n",
            "2019-07-10 20:21:33.431545: I tensorflow/stream_executor/platform/default/dso_loader.cc:42] Successfully opened dynamic library libcudart.so.10.0\n",
            "2019-07-10 20:21:33.432981: I tensorflow/core/common_runtime/gpu/gpu_device.cc:1181] Device interconnect StreamExecutor with strength 1 edge matrix:\n",
            "2019-07-10 20:21:33.433017: I tensorflow/core/common_runtime/gpu/gpu_device.cc:1187]      0 \n",
            "2019-07-10 20:21:33.433036: I tensorflow/core/common_runtime/gpu/gpu_device.cc:1200] 0:   N \n",
            "2019-07-10 20:21:33.433425: I tensorflow/stream_executor/cuda/cuda_gpu_executor.cc:1005] successful NUMA node read from SysFS had negative value (-1), but there must be at least one NUMA node, so returning NUMA node zero\n",
            "2019-07-10 20:21:33.433885: I tensorflow/stream_executor/cuda/cuda_gpu_executor.cc:1005] successful NUMA node read from SysFS had negative value (-1), but there must be at least one NUMA node, so returning NUMA node zero\n",
            "2019-07-10 20:21:33.434265: W tensorflow/core/common_runtime/gpu/gpu_bfc_allocator.cc:40] Overriding allow_growth setting because the TF_FORCE_GPU_ALLOW_GROWTH environment variable is set. Original config value was 0.\n",
            "2019-07-10 20:21:33.434345: I tensorflow/core/common_runtime/gpu/gpu_device.cc:1326] Created TensorFlow device (/job:localhost/replica:0/task:0/device:GPU:0 with 10802 MB memory) -> physical GPU (device: 0, name: Tesla K80, pci bus id: 0000:00:04.0, compute capability: 3.7)\n",
            "W0710 20:21:35.612196 140629155207040 deprecation_wrapper.py:119] From /usr/local/lib/python3.6/dist-packages/keras/optimizers.py:675: The name tf.train.Optimizer is deprecated. Please use tf.compat.v1.train.Optimizer instead.\n",
            "\n",
            "akhand_b43_135.jpg\n",
            "2019-07-10 20:21:36.513739: I tensorflow/stream_executor/platform/default/dso_loader.cc:42] Successfully opened dynamic library libcudnn.so.7\n",
            "2019-07-10 20:21:40.899601: I tensorflow/stream_executor/platform/default/dso_loader.cc:42] Successfully opened dynamic library libcublas.so.10.0\n",
            "Elapsed time = 6.247790575027466\n",
            "[]\n",
            "akhand_b43_144.jpg\n",
            "Elapsed time = 0.9205999374389648\n",
            "[]\n",
            "akhand_b43_171.jpg\n",
            "Elapsed time = 0.9001984596252441\n",
            "[]\n",
            "akhand_b43_175.jpg\n",
            "Elapsed time = 0.8976082801818848\n",
            "[]\n",
            "akhand_b43_177.jpg\n",
            "Elapsed time = 0.8941047191619873\n",
            "[]\n",
            "akhand_b43_179.jpg\n",
            "Elapsed time = 0.9061343669891357\n",
            "[]\n",
            "akhand_b43_204.jpg\n",
            "Elapsed time = 0.8981068134307861\n",
            "[]\n",
            "akhand_b43_205.jpg\n",
            "Elapsed time = 0.9128155708312988\n",
            "[]\n",
            "akhand_b43_221.jpg\n",
            "Elapsed time = 0.9339103698730469\n",
            "[]\n",
            "akhand_b43_225.jpg\n",
            "Elapsed time = 0.9140646457672119\n",
            "[]\n",
            "akhand_b43_269.jpg\n",
            "Elapsed time = 0.9272699356079102\n",
            "[]\n",
            "akhand_b43_288.jpg\n",
            "Elapsed time = 0.9256818294525146\n",
            "[]\n",
            "akhand_b43_290.jpg\n",
            "Elapsed time = 0.9258425235748291\n",
            "[]\n",
            "akhand_b43_302.jpg\n",
            "Elapsed time = 0.9124855995178223\n",
            "[]\n",
            "akhand_b43_305.jpg\n",
            "Elapsed time = 0.926767110824585\n",
            "[]\n",
            "akhand_b43_315.jpg\n",
            "Elapsed time = 0.929297924041748\n",
            "[]\n",
            "akhand_b43_321.jpg\n",
            "Elapsed time = 0.9007515907287598\n",
            "[]\n",
            "akhand_b43_351.jpg\n",
            "Elapsed time = 0.9215290546417236\n",
            "[]\n",
            "akhand_b43_352.jpg\n",
            "Elapsed time = 0.9200997352600098\n",
            "[]\n",
            "akhand_b43_359.jpg\n",
            "Elapsed time = 0.9240479469299316\n",
            "[]\n",
            "akhand_b43_365.jpg\n",
            "Elapsed time = 0.9055790901184082\n",
            "[]\n",
            "akhand_b43_366.jpg\n",
            "Elapsed time = 0.9291796684265137\n",
            "[]\n",
            "akhand_b43_368.jpg\n",
            "Elapsed time = 0.9190099239349365\n",
            "[]\n",
            "akhand_b43_388.jpg\n",
            "Elapsed time = 0.9695250988006592\n",
            "[]\n",
            "akhand_b43_416.jpg\n",
            "Elapsed time = 0.9182460308074951\n",
            "[]\n",
            "akhand_b43_417.jpg\n",
            "Elapsed time = 0.9096732139587402\n",
            "[]\n",
            "akhand_b43_421.jpg\n",
            "Elapsed time = 0.9195783138275146\n",
            "[]\n",
            "akhand_b43_441.jpg\n",
            "Elapsed time = 0.9164655208587646\n",
            "[]\n",
            "akhand_b43_466.jpg\n",
            "Elapsed time = 0.9141206741333008\n",
            "[]\n",
            "akhand_b43_475.jpg\n",
            "Elapsed time = 0.9223313331604004\n",
            "[]\n",
            "akhand_b43_498.jpg\n",
            "Elapsed time = 0.9406576156616211\n",
            "[]\n",
            "akhand_b43_51.jpg\n",
            "Elapsed time = 0.893444299697876\n",
            "[]\n",
            "akhand_b43_512.jpg\n",
            "Elapsed time = 0.9112801551818848\n",
            "[]\n",
            "akhand_b43_519.jpg\n",
            "Elapsed time = 0.9054858684539795\n",
            "[]\n",
            "akhand_b43_520.jpg\n",
            "Elapsed time = 0.9289696216583252\n",
            "[]\n",
            "akhand_b43_522.jpg\n",
            "Elapsed time = 0.9123406410217285\n",
            "[]\n",
            "akhand_b43_523.jpg\n",
            "Elapsed time = 0.9142465591430664\n",
            "[]\n",
            "akhand_b43_526.jpg\n",
            "Elapsed time = 0.9042353630065918\n",
            "[]\n",
            "akhand_b43_542.jpg\n",
            "Elapsed time = 0.9106476306915283\n",
            "[]\n",
            "akhand_b43_545.jpg\n",
            "Elapsed time = 0.8917465209960938\n",
            "[]\n",
            "akhand_b43_555.jpg\n",
            "Elapsed time = 0.9269936084747314\n",
            "[]\n",
            "akhand_b43_563.jpg\n",
            "Elapsed time = 0.938901424407959\n",
            "[]\n",
            "akhand_b43_576.jpg\n",
            "Elapsed time = 0.9493441581726074\n",
            "[]\n",
            "akhand_b43_595.jpg\n",
            "Elapsed time = 0.9295320510864258\n",
            "[]\n",
            "akhand_b43_60.jpg\n",
            "Elapsed time = 0.9290754795074463\n",
            "[]\n",
            "akhand_b43_61.jpg\n",
            "Elapsed time = 0.9188191890716553\n",
            "[]\n",
            "akhand_b43_62.jpg\n",
            "Elapsed time = 0.9081921577453613\n",
            "[]\n",
            "akhand_b43_79.jpg\n",
            "Elapsed time = 0.9087088108062744\n",
            "[]\n",
            "akhand_b43_88.jpg\n",
            "Elapsed time = 0.902799129486084\n",
            "[]\n",
            "akhand_b43_93.jpg\n",
            "Elapsed time = 0.9153170585632324\n",
            "[]\n"
          ],
          "name": "stdout"
        }
      ]
    },
    {
      "cell_type": "code",
      "metadata": {
        "id": "VCu1wYpbzPCB",
        "colab_type": "code",
        "colab": {}
      },
      "source": [
        ""
      ],
      "execution_count": 0,
      "outputs": []
    },
    {
      "cell_type": "code",
      "metadata": {
        "id": "klHTktdD6uFv",
        "colab_type": "code",
        "colab": {}
      },
      "source": [
        "files.download(\"/content/keras-frcnn/results\")"
      ],
      "execution_count": 0,
      "outputs": []
    },
    {
      "cell_type": "code",
      "metadata": {
        "id": "KNf5Pk8vAjRa",
        "colab_type": "code",
        "outputId": "62ac7231-1354-49c8-af44-ebd2835461cf",
        "colab": {
          "base_uri": "https://localhost:8080/",
          "height": 295
        }
      },
      "source": [
        "#Check classes in main image\n",
        "import matplotlib.pyplot as plt\n",
        "%matplotlib inline\n",
        "from matplotlib import patches\n",
        "fig = plt.figure()\n",
        "\n",
        "#add axes to the image\n",
        "ax = fig.add_axes([0,0,1,1])\n",
        "\n",
        "# read and plot the image\n",
        "image = plt.imread('/content/files/Internship/images_chem4/akhand_b43_0.jpg')\n",
        "plt.imshow(image)\n",
        "\n",
        "train = pd.read_csv(\"train.csv\")\n",
        "\n",
        "# iterating over the image for different objects\n",
        "for _,row in train[train['filename'] == \"akhand_b43_0.jpg\"].iterrows():\n",
        "    xmin = row.xmin\n",
        "    xmax = row.xmax\n",
        "    ymin = row.ymin\n",
        "    ymax = row.ymax\n",
        "    \n",
        "    width = xmax - xmin\n",
        "    height = ymax - ymin\n",
        "   \n",
        "    \n",
        "    # assign different color to different classes of objects\n",
        "    if row['class'] == 'Dent':\n",
        "        edgecolor = 'r'\n",
        "        ax.annotate('Dent', xy=(xmax-40,ymin+20))\n",
        "    elif row['class'] == 'Scratch_or_spot \t':\n",
        "        edgecolor = 'b'\n",
        "        ax.annotate('Scratch_or_spot', xy=(xmax-40,ymin+20))\n",
        "        \n",
        "    # add bounding boxes to the image\n",
        "    rect = patches.Rectangle((xmin,ymin), width, height, edgecolor = 'r', facecolor = 'none')\n",
        "    \n",
        "    ax.add_patch(rect)"
      ],
      "execution_count": 0,
      "outputs": [
        {
          "output_type": "display_data",
          "data": {
            "image/png": "[encoded data removed]",
            "text/plain": [
              "<Figure size 432x288 with 1 Axes>"
            ]
          },
          "metadata": {
            "tags": []
          }
        }
      ]
    },
    {
      "cell_type": "code",
      "metadata": {
        "id": "KojaLrAwCJ5j",
        "colab_type": "code",
        "colab": {}
      },
      "source": [
        ""
      ],
      "execution_count": 0,
      "outputs": []
    },
    {
      "cell_type": "code",
      "metadata": {
        "id": "kC2rzoKaCk7P",
        "colab_type": "code",
        "colab": {}
      },
      "source": [
        ""
      ],
      "execution_count": 0,
      "outputs": []
    },
    {
      "cell_type": "code",
      "metadata": {
        "id": "SSIkBl6PCo5J",
        "colab_type": "code",
        "colab": {}
      },
      "source": [
        ""
      ],
      "execution_count": 0,
      "outputs": []
    }
  ]
}